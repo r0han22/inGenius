{
 "cells": [
  {
   "cell_type": "code",
   "execution_count": 1,
   "metadata": {},
   "outputs": [],
   "source": [
    "#getfeatures"
   ]
  },
  {
   "cell_type": "code",
   "execution_count": null,
   "metadata": {},
   "outputs": [],
   "source": [
    "import wave\n",
    "import os\n",
    "import glob\n",
    "import librosa\n",
    "import numpy as np\n",
    "import scipy.io.wavfile as wav\n",
    "import scipy.signal as signal\n",
    "import matplotlib.pyplot as plt\n",
    "fig, ax = plt.subplots()\n",
    "k=601\n",
    "path =r\"C:\\Users\\Niraj\\Desktop\\just like that\\inGenius\\YAF_neutral\"\n",
    "for filename in glob.glob(os.path.join(path, '*.wav')):\n",
    "    i='/'+str(k)\n",
    "    #x, sr = librosa.load(r\"C:\\Users\\Niraj\\Desktop\\just like that\\inGenius\\OAF_fear\\OAF_vote_fear.wav\")\n",
    "    x, sr = librosa.load(filename)\n",
    "    plt.specgram(x,Fs=sr)\n",
    "    #print(i)\n",
    "    fig.savefig(\"C:/Users/Niraj/Desktop/just like that/inGenius/YAF_neutral/imgs\"+i+\".png\")\n",
    "    k=k+1"
   ]
  }
 ],
 "metadata": {
  "kernelspec": {
   "display_name": "Python 3",
   "language": "python",
   "name": "python3"
  },
  "language_info": {
   "codemirror_mode": {
    "name": "ipython",
    "version": 3
   },
   "file_extension": ".py",
   "mimetype": "text/x-python",
   "name": "python",
   "nbconvert_exporter": "python",
   "pygments_lexer": "ipython3",
   "version": "3.6.12"
  }
 },
 "nbformat": 4,
 "nbformat_minor": 4
}
